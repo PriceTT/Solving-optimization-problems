{
  "nbformat": 4,
  "nbformat_minor": 0,
  "metadata": {
    "colab": {
      "provenance": []
    },
    "kernelspec": {
      "display_name": "Python 3",
      "language": "python",
      "name": "python3"
    },
    "language_info": {
      "codemirror_mode": {
        "name": "ipython",
        "version": 3
      },
      "file_extension": ".py",
      "mimetype": "text/x-python",
      "name": "python",
      "nbconvert_exporter": "python",
      "pygments_lexer": "ipython3",
      "version": "3.7.3"
    }
  },
  "cells": [
    {
      "cell_type": "code",
      "source": [
        "#installing and importing pyomo\n",
        "!pip install -q pyomo\n",
        "from pyomo.environ import *"
      ],
      "metadata": {
        "id": "Q81gD3GOtgJD",
        "colab": {
          "base_uri": "https://localhost:8080/"
        },
        "outputId": "dcdff2e7-90fa-4076-f0e2-4a50e8451515"
      },
      "execution_count": 1,
      "outputs": [
        {
          "output_type": "stream",
          "name": "stdout",
          "text": [
            "\u001b[2K     \u001b[90m━━━━━━━━━━━━━━━━━━━━━━━━━━━━━━━━━━━━━━━━\u001b[0m \u001b[32m11.2/11.2 MB\u001b[0m \u001b[31m52.4 MB/s\u001b[0m eta \u001b[36m0:00:00\u001b[0m\n",
            "\u001b[2K     \u001b[90m━━━━━━━━━━━━━━━━━━━━━━━━━━━━━━━━━━━━━━━━\u001b[0m \u001b[32m49.6/49.6 KB\u001b[0m \u001b[31m2.9 MB/s\u001b[0m eta \u001b[36m0:00:00\u001b[0m\n",
            "\u001b[?25h"
          ]
        }
      ]
    },
    {
      "cell_type": "code",
      "source": [
        "!wget -N -q \"https://matematica.unipv.it/gualandi/solvers/ipopt-linux64.zip\"\n",
        "!unzip -o -q ipopt-linux64"
      ],
      "metadata": {
        "id": "_WvYMAaHZW2k"
      },
      "execution_count": 4,
      "outputs": []
    },
    {
      "cell_type": "code",
      "metadata": {
        "id": "LkpGUtiS60lD",
        "pycharm": {},
        "colab": {
          "base_uri": "https://localhost:8080/"
        },
        "outputId": "a7298165-8c87-43f0-8d64-a953e31d0c09"
      },
      "source": [
        "# create a model\n",
        "model = AbstractModel()\n",
        "\n",
        "# declare decision variables\n",
        "model.x = Var(domain=NonNegativeReals)\n",
        "model.y = Var(domain=NonNegativeReals)\n",
        "\n",
        "# declare constraints\n",
        "model.C1 = Constraint(expr = model.x**2 <= 40)\n",
        "model.C2 = Constraint(expr = model.x*model.y + model.y <= 80)\n",
        "model.C3 = Constraint(expr = 2*model.x + model.y <= 100)\n",
        "\n",
        "# declare objective\n",
        "model.obj = Objective(expr = 40*model.x + 30*model.y, sense=maximize)\n",
        "\n",
        "opt = SolverFactory('ipopt', executable='/content/ipopt')\n",
        "instance = model.create_instance()# solves and updates instance\n",
        "results = opt.solve(instance)\n",
        "\n",
        "if (results.solver.status == SolverStatus.ok) and (results.solver.termination_condition == TerminationCondition.optimal):\n",
        "    print('feasible')\n",
        "elif (results.solver.termination_condition == TerminationCondition.infeasible):\n",
        "    print('infeasible')\n",
        "else:\n",
        "    print ('Solver Status:',  results.solver.status)\n",
        "print(value(instance.obj))\n",
        "print('x = ', value(instance.x))\n",
        "print('y = ', value(instance.y))\n"
      ],
      "execution_count": 5,
      "outputs": [
        {
          "output_type": "stream",
          "name": "stdout",
          "text": [
            "feasible\n",
            "2400.0000479949463\n",
            "x =  0.0\n",
            "y =  80.00000159983155\n"
          ]
        }
      ]
    },
    {
      "cell_type": "code",
      "source": [],
      "metadata": {
        "id": "Jvjq9PfqcNYC"
      },
      "execution_count": null,
      "outputs": []
    },
    {
      "cell_type": "code",
      "source": [
        "import os\n",
        "os.environ['NEOS_EMAIL'] = 'optimizationteamonline@gmail.com'\n",
        "opt = SolverManagerFactory('neos')\n",
        "results = opt.solve(instance, solver = \"ipopt\")\n",
        "#['bonmin', 'cbc', 'conopt', 'couenne', 'cplex', 'filmint', 'filter', 'ipopt', 'knitro', 'l-bfgs-b', \n",
        "#'lancelot', 'lgo', 'loqo', 'minlp', 'minos', 'minto', 'mosek', 'octeract', 'ooqp', 'path', 'raposa', 'snopt']\n",
        "if (results.solver.status == SolverStatus.ok) and (results.solver.termination_condition == TerminationCondition.optimal):\n",
        "    print('feasible')\n",
        "elif (results.solver.termination_condition == TerminationCondition.infeasible):\n",
        "    print('infeasible')\n",
        "else:\n",
        "    print ('Solver Status:',  results.solver.status)\n",
        "print(value(instance.obj))\n",
        "print('x = ', value(instance.x))\n",
        "print('y = ', value(instance.y))"
      ],
      "metadata": {
        "colab": {
          "base_uri": "https://localhost:8080/"
        },
        "id": "aj1uWwkMbjgr",
        "outputId": "01377d0d-b2e5-47ad-dafe-5d77ee2e155e"
      },
      "execution_count": null,
      "outputs": [
        {
          "output_type": "stream",
          "name": "stdout",
          "text": [
            "feasible\n",
            "2400.0000475949882\n",
            "x =  -9.998938180106651e-09\n",
            "y =  80.00000159983153\n"
          ]
        }
      ]
    }
  ]
}
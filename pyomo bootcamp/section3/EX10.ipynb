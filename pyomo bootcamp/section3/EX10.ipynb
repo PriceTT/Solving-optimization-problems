{
 "cells": [
  {
   "cell_type": "code",
   "execution_count": 1,
   "source": [
    "from pyomo.environ import *\n",
    "import numpy as np"
   ],
   "outputs": [],
   "metadata": {}
  },
  {
   "cell_type": "code",
   "execution_count": 2,
   "source": [
    "model = AbstractModel()\n",
    "model.N = Set()\n",
    "model.M = Set()\n",
    "model.c = Param(model.N)\n",
    "model.a = Param(model.M, model.N)\n",
    "model.b = Param(model.M)\n",
    "model.x = Var(model.N, within=NonNegativeReals)\n",
    "def con_rule(model, m):\n",
    "    return sum(model.a[m,i]*model.x[i] for i in model.N) >= model.b[m]\n",
    "model.con = Constraint(model.M, rule=con_rule)\n",
    "\n",
    "def obj_rule(model):\n",
    "    return sum(model.c[i]*model.x[i] for i in model.N)\n",
    "model.OF = Objective(rule=obj_rule,sense=minimize)"
   ],
   "outputs": [],
   "metadata": {}
  },
  {
   "cell_type": "code",
   "execution_count": 5,
   "source": [
    "opt = SolverFactory('glpk')\n",
    "instance = model.create_instance(\"EX10.dat\")\n",
    "results = opt.solve(instance) # solves and updates instance"
   ],
   "outputs": [],
   "metadata": {}
  },
  {
   "cell_type": "code",
   "execution_count": 6,
   "source": [
    "for i in instance.N:\n",
    "    print('X'+str(i)+'= ',round(value(instance.x[i]),2))\n",
    "print('OF=',round(value(instance.OF),2))"
   ],
   "outputs": [
    {
     "output_type": "stream",
     "name": "stdout",
     "text": [
      "X1=  1.33\n",
      "X2=  0.0\n",
      "OF= 9.33\n"
     ]
    }
   ],
   "metadata": {}
  },
  {
   "cell_type": "code",
   "execution_count": null,
   "source": [],
   "outputs": [],
   "metadata": {}
  }
 ],
 "metadata": {
  "kernelspec": {
   "name": "python3",
   "display_name": "Python 3.10.8 64-bit ('opt-env': conda)"
  },
  "language_info": {
   "name": "python",
   "version": "3.10.6",
   "mimetype": "text/x-python",
   "codemirror_mode": {
    "name": "ipython",
    "version": 3
   },
   "pygments_lexer": "ipython3",
   "nbconvert_exporter": "python",
   "file_extension": ".py"
  },
  "interpreter": {
   "hash": "f852b63af71600fb6cf05ccbea7f2545713ef55103bc1161e311f9a4a9c5b3ed"
  }
 },
 "nbformat": 4,
 "nbformat_minor": 4
}
{
 "cells": [
  {
   "cell_type": "code",
   "execution_count": 1,
   "source": [
    "from pyomo.environ import *\n",
    "import numpy as np\n",
    "# max f1 = 2rcos(theta)/V1+r2theta/V2 <br>\n",
    "# 0<theta<pi/2 \n",
    "#find the min time to travel from A to B"
   ],
   "outputs": [],
   "metadata": {}
  },
  {
   "cell_type": "code",
   "execution_count": 2,
   "source": [
    "model = ConcreteModel()\n",
    "model.r=Param(initialize=10)\n",
    "model.V1=Param(initialize=4)\n",
    "model.V2=Param(initialize=3)\n",
    "model.theta=Var(bounds=(0,np.pi/2), initialize=np.pi/3)\n",
    "model.OF=Objective(expr=2*model.r*cos(model.theta)/model.V1+ 2*model.theta*model.r/model.V2,sense=minimize )"
   ],
   "outputs": [],
   "metadata": {}
  },
  {
   "cell_type": "code",
   "execution_count": 3,
   "source": [
    "solver = SolverFactory('ipopt')\n",
    "results=solver.solve(model);"
   ],
   "outputs": [],
   "metadata": {}
  },
  {
   "cell_type": "code",
   "execution_count": 4,
   "source": [
    "print('therta= ',round(value(model.theta)*180/np.pi))\n",
    "print('OF= ',round(value(model.OF),2))"
   ],
   "outputs": [
    {
     "output_type": "stream",
     "name": "stdout",
     "text": [
      "therta=  0\n",
      "OF=  5.0\n"
     ]
    }
   ],
   "metadata": {}
  },
  {
   "cell_type": "code",
   "execution_count": null,
   "source": [],
   "outputs": [],
   "metadata": {}
  }
 ],
 "metadata": {
  "kernelspec": {
   "name": "python3",
   "display_name": "Python 3.10.8 64-bit ('opt-env': conda)"
  },
  "language_info": {
   "name": "python",
   "version": "3.10.6",
   "mimetype": "text/x-python",
   "codemirror_mode": {
    "name": "ipython",
    "version": 3
   },
   "pygments_lexer": "ipython3",
   "nbconvert_exporter": "python",
   "file_extension": ".py"
  },
  "interpreter": {
   "hash": "f852b63af71600fb6cf05ccbea7f2545713ef55103bc1161e311f9a4a9c5b3ed"
  }
 },
 "nbformat": 4,
 "nbformat_minor": 4
}
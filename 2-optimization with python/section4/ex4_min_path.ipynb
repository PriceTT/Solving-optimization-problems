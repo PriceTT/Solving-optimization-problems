{
 "cells": [
  {
   "cell_type": "code",
   "execution_count": 1,
   "source": [
    "from pyomo.environ import *\n",
    "import numpy as np\n"
   ],
   "outputs": [],
   "metadata": {}
  },
  {
   "cell_type": "code",
   "execution_count": 3,
   "source": [
    "\n",
    "m = ConcreteModel()\n",
    "\n",
    "#sets of points\n",
    "m.setAllPoints = ['A','P1','P2','P3','B']\n",
    "m.setPoints = ['P1','P2','P3']\n",
    "\n",
    "#sets of routes from to\n",
    "m.setRoutes = [['A','P1'],['A','P2'],['P1','P2'],['P2','P1'],['P1','B'],['P2','P3'],['P3','B']]\n",
    "m.setRoutes_from = {key:[] for key in m.setAllPoints}\n",
    "m.setRoutes_to = {key:[] for key in m.setAllPoints}\n",
    "for route in m.setRoutes:\n",
    "    m.setRoutes_from[route[0]].append(route[1])\n",
    "    m.setRoutes_to[route[1]].append(route[0])\n",
    "\n",
    "#parameters\n",
    "m.D = {}\n",
    "m.D['A','P1'] = 2\n",
    "m.D['A','P2'] = 7\n",
    "m.D['P1','P2'] = 10\n",
    "m.D['P2','P1'] = 10\n",
    "m.D['P1','B'] = 30\n",
    "m.D['P2','P3'] = 8\n",
    "m.D['P3','B'] = 5\n",
    "\n",
    "#variables\n",
    "m.x = Var(m.setRoutes, within=Binary)\n",
    "\n",
    "#objective function\n",
    "m.obj = Objective(expr = sum([\n",
    "    m.x[route[0], route[1]] * m.D[route[0], route[1]]\n",
    "    for route in m.setRoutes\n",
    "    ]), sense=minimize)\n",
    "\n",
    "#constraints --> TIP: run the code and print m.setRoutes_from and m.setRoutes_to, and check the SETs of the problem\n",
    "#you can replace m.setRoutes_from['A'] for 'P1', 'P2'], it would work for this problem, but not for a other network\n",
    "m.C1 = Constraint(expr = sum([m.x['A',j] for j in m.setRoutes_from['A']]) == 1)\n",
    "m.C2 = Constraint(expr = sum([m.x[i,'B'] for i in m.setRoutes_to['B']]) == 1)\n",
    "m.C3 = ConstraintList()\n",
    "for i in m.setPoints:\n",
    "    m.C3.add(sum([m.x[i,j] for j in m.setRoutes_from[i]]) == sum([m.x[j,i] for j in m.setRoutes_to[i]]))\n",
    "\n",
    "#solve\n",
    "opt = SolverFactory('ipopt')\n",
    "m.results = opt.solve(m)\n",
    "\n",
    "#print\n",
    "m.pprint()\n",
    "print('\\n\\nOF:',value(m.obj))\n",
    "for route in m.setRoutes:\n",
    "    if value(m.x[route[0], route[1]]) >= 0.9:\n",
    "        print('Route activated: %s-%s' % (route[0], route[1]))"
   ],
   "outputs": [
    {
     "output_type": "stream",
     "name": "stdout",
     "text": [
      "2 Set Declarations\n",
      "    C3_index : Size=1, Index=None, Ordered=Insertion\n",
      "        Key  : Dimen : Domain : Size : Members\n",
      "        None :     1 :    Any :    3 : {1, 2, 3}\n",
      "    x_index : Size=1, Index=None, Ordered=Insertion\n",
      "        Key  : Dimen : Domain : Size : Members\n",
      "        None :     2 :    Any :    7 : {('A', 'P1'), ('A', 'P2'), ('P1', 'P2'), ('P2', 'P1'), ('P1', 'B'), ('P2', 'P3'), ('P3', 'B')}\n",
      "\n",
      "1 Var Declarations\n",
      "    x : Size=7, Index=x_index\n",
      "        Key          : Lower : Value                  : Upper : Fixed : Stale : Domain\n",
      "         ('A', 'P1') :     0 : -8.195602029982122e-09 :     1 : False : False : Binary\n",
      "         ('A', 'P2') :     0 :      1.000000008195599 :     1 : False : False : Binary\n",
      "         ('P1', 'B') :     0 : -9.184254062380171e-09 :     1 : False : False : Binary\n",
      "        ('P1', 'P2') :     0 : -8.870407854648137e-09 :     1 : False : False : Binary\n",
      "        ('P2', 'P1') :     0 : -9.859051305540992e-09 :     1 : False : False : Binary\n",
      "        ('P2', 'P3') :     0 :     1.0000000091842383 :     1 : False : False : Binary\n",
      "         ('P3', 'B') :     0 :      1.000000009184242 :     1 : False : False : Binary\n",
      "\n",
      "1 Objective Declarations\n",
      "    obj : Size=1, Index=None, Active=True\n",
      "        Key  : Active : Sense    : Expression\n",
      "        None :   True : minimize : 2*x[A,P1] + 7*x[A,P2] + 10*x[P1,P2] + 10*x[P2,P1] + 30*x[P1,B] + 8*x[P2,P3] + 5*x[P3,B]\n",
      "\n",
      "3 Constraint Declarations\n",
      "    C1 : Size=1, Index=None, Active=True\n",
      "        Key  : Lower : Body              : Upper : Active\n",
      "        None :   1.0 : x[A,P1] + x[A,P2] :   1.0 :   True\n",
      "    C2 : Size=1, Index=None, Active=True\n",
      "        Key  : Lower : Body              : Upper : Active\n",
      "        None :   1.0 : x[P1,B] + x[P3,B] :   1.0 :   True\n",
      "    C3 : Size=3, Index=C3_index, Active=True\n",
      "        Key : Lower : Body                                       : Upper : Active\n",
      "          1 :   0.0 :  x[P1,P2] + x[P1,B] - (x[A,P1] + x[P2,P1]) :   0.0 :   True\n",
      "          2 :   0.0 : x[P2,P1] + x[P2,P3] - (x[A,P2] + x[P1,P2]) :   0.0 :   True\n",
      "          3 :   0.0 :                         x[P3,B] - x[P2,P3] :   0.0 :   True\n",
      "\n",
      "7 Declarations: x_index x obj C1 C2 C3_index C3\n",
      "\n",
      "\n",
      "OF: 19.99999969755089\n",
      "Route activated: A-P2\n",
      "Route activated: P2-P3\n",
      "Route activated: P3-B\n"
     ]
    }
   ],
   "metadata": {}
  },
  {
   "cell_type": "code",
   "execution_count": null,
   "source": [],
   "outputs": [],
   "metadata": {}
  }
 ],
 "metadata": {
  "orig_nbformat": 4,
  "language_info": {
   "name": "python",
   "version": "3.10.6",
   "mimetype": "text/x-python",
   "codemirror_mode": {
    "name": "ipython",
    "version": 3
   },
   "pygments_lexer": "ipython3",
   "nbconvert_exporter": "python",
   "file_extension": ".py"
  },
  "kernelspec": {
   "name": "python3",
   "display_name": "Python 3.10.8 64-bit ('opt-env': conda)"
  },
  "interpreter": {
   "hash": "f852b63af71600fb6cf05ccbea7f2545713ef55103bc1161e311f9a4a9c5b3ed"
  }
 },
 "nbformat": 4,
 "nbformat_minor": 2
}
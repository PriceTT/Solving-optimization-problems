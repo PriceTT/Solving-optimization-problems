{
 "cells": [
  {
   "cell_type": "code",
   "execution_count": 1,
   "source": [
    "from pyomo.environ import *\n",
    "import numpy as np\n"
   ],
   "outputs": [],
   "metadata": {}
  },
  {
   "cell_type": "code",
   "execution_count": 5,
   "source": [
    "m = ConcreteModel()\n",
    "\n",
    "#sets and parameters\n",
    "m.setInv = Set(initialize=['A','B','C','D'])\n",
    "m.Capital = 100000\n",
    "\n",
    "#variables\n",
    "m.C = Var(m.setInv, bounds=(0,None))\n",
    "m.R = Var(m.setInv, bounds=(0,None))\n",
    "\n",
    "#objective function\n",
    "m.obj = Objective(expr = summation(m.R), sense=maximize)\n",
    "\n",
    "#constraints\n",
    "m.C1 = Constraint(expr = summation(m.C) == m.Capital)\n",
    "m.C2 = Constraint(expr = m.R['A'] == 0.05*m.C['A'])\n",
    "m.C3 = Constraint(expr = m.R['B'] == 0.10*m.C['B'])\n",
    "m.C4 = Constraint(expr = m.R['C'] == 0.12*m.C['C'])\n",
    "m.C5 = Constraint(expr = m.R['D'] == 1e-6*m.C['D']**2)\n",
    "\n",
    "m.C6 = Constraint(expr = m.C['B'] <= 0.2*m.Capital)\n",
    "m.C7 = Constraint(expr = m.C['C'] <= 0.1*m.Capital)\n",
    "m.C8 = Constraint(expr = m.C['D'] <= 0.3*m.Capital)\n",
    "\n",
    "#solve\n",
    "opt = SolverFactory('ipopt')\n",
    "m.results = opt.solve(m)\n",
    "\n",
    "#print\n",
    "m.pprint()\n",
    "print('\\n\\nOF:',value(m.obj))"
   ],
   "outputs": [
    {
     "output_type": "stream",
     "name": "stdout",
     "text": [
      "1 Set Declarations\n",
      "    setInv : Size=1, Index=None, Ordered=Insertion\n",
      "        Key  : Dimen : Domain : Size : Members\n",
      "        None :     1 :    Any :    4 : {'A', 'B', 'C', 'D'}\n",
      "\n",
      "2 Var Declarations\n",
      "    C : Size=4, Index=setInv\n",
      "        Key : Lower : Value                 : Upper : Fixed : Stale : Domain\n",
      "          A :     0 :     69999.99980002298 :  None : False : False :  Reals\n",
      "          B :     0 :     20000.00009998182 :  None : False : False :  Reals\n",
      "          C :     0 :    10000.000099987012 :  None : False : False :  Reals\n",
      "          D :     0 : 8.181827024900613e-09 :  None : False : False :  Reals\n",
      "    R : Size=4, Index=setInv\n",
      "        Key : Lower : Value                 : Upper : Fixed : Stale : Domain\n",
      "          A :     0 :     3499.999990001149 :  None : False : False :  Reals\n",
      "          B :     0 :     2000.000009998182 :  None : False : False :  Reals\n",
      "          C :     0 :    1200.0000119984416 :  None : False : False :  Reals\n",
      "          D :     0 : -9.91956988206061e-22 :  None : False : False :  Reals\n",
      "\n",
      "1 Objective Declarations\n",
      "    obj : Size=1, Index=None, Active=True\n",
      "        Key  : Active : Sense    : Expression\n",
      "        None :   True : maximize : R[A] + R[B] + R[C] + R[D]\n",
      "\n",
      "8 Constraint Declarations\n",
      "    C1 : Size=1, Index=None, Active=True\n",
      "        Key  : Lower    : Body                      : Upper    : Active\n",
      "        None : 100000.0 : C[A] + C[B] + C[C] + C[D] : 100000.0 :   True\n",
      "    C2 : Size=1, Index=None, Active=True\n",
      "        Key  : Lower : Body             : Upper : Active\n",
      "        None :   0.0 : R[A] - 0.05*C[A] :   0.0 :   True\n",
      "    C3 : Size=1, Index=None, Active=True\n",
      "        Key  : Lower : Body            : Upper : Active\n",
      "        None :   0.0 : R[B] - 0.1*C[B] :   0.0 :   True\n",
      "    C4 : Size=1, Index=None, Active=True\n",
      "        Key  : Lower : Body             : Upper : Active\n",
      "        None :   0.0 : R[C] - 0.12*C[C] :   0.0 :   True\n",
      "    C5 : Size=1, Index=None, Active=True\n",
      "        Key  : Lower : Body                 : Upper : Active\n",
      "        None :   0.0 : R[D] - 1e-06*C[D]**2 :   0.0 :   True\n",
      "    C6 : Size=1, Index=None, Active=True\n",
      "        Key  : Lower : Body : Upper   : Active\n",
      "        None :  -Inf : C[B] : 20000.0 :   True\n",
      "    C7 : Size=1, Index=None, Active=True\n",
      "        Key  : Lower : Body : Upper   : Active\n",
      "        None :  -Inf : C[C] : 10000.0 :   True\n",
      "    C8 : Size=1, Index=None, Active=True\n",
      "        Key  : Lower : Body : Upper   : Active\n",
      "        None :  -Inf : C[D] : 30000.0 :   True\n",
      "\n",
      "12 Declarations: setInv C R obj C1 C2 C3 C4 C5 C6 C7 C8\n",
      "\n",
      "\n",
      "OF: 6700.000011997772\n"
     ]
    }
   ],
   "metadata": {}
  },
  {
   "cell_type": "code",
   "execution_count": null,
   "source": [],
   "outputs": [],
   "metadata": {}
  }
 ],
 "metadata": {
  "orig_nbformat": 4,
  "language_info": {
   "name": "python",
   "version": "3.10.6",
   "mimetype": "text/x-python",
   "codemirror_mode": {
    "name": "ipython",
    "version": 3
   },
   "pygments_lexer": "ipython3",
   "nbconvert_exporter": "python",
   "file_extension": ".py"
  },
  "kernelspec": {
   "name": "python3",
   "display_name": "Python 3.10.8 64-bit ('opt-env': conda)"
  },
  "interpreter": {
   "hash": "f852b63af71600fb6cf05ccbea7f2545713ef55103bc1161e311f9a4a9c5b3ed"
  }
 },
 "nbformat": 4,
 "nbformat_minor": 2
}
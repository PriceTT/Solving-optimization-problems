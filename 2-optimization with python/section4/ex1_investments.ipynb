{
 "cells": [
  {
   "cell_type": "code",
   "execution_count": 1,
   "source": [
    "from pyomo.environ import *\n",
    "import numpy as np\n"
   ],
   "outputs": [],
   "metadata": {}
  },
  {
   "cell_type": "code",
   "execution_count": 4,
   "source": [
    "\n",
    "\n",
    "m = ConcreteModel()\n",
    "\n",
    "#sets and paramenters\n",
    "m.setInv = Set(initialize=['A','B','C'])\n",
    "m.Capital = 100000\n",
    "\n",
    "#variables\n",
    "m.C = Var(m.setInv, bounds=(0,None))\n",
    "m.R = Var(m.setInv, bounds=(0,None))\n",
    "\n",
    "#objective function\n",
    "m.obj = Objective(expr = summation(m.R), sense=maximize)\n",
    "\n",
    "#constraints\n",
    "m.C1 = Constraint(expr = summation(m.C) == m.Capital)\n",
    "m.C2 = Constraint(expr = m.R['A'] == 0.05*m.C['A'])\n",
    "m.C3 = Constraint(expr = m.R['B'] == 0.10*m.C['B'])\n",
    "m.C4 = Constraint(expr = m.R['C'] == 0.12*m.C['C'])\n",
    "m.C5 = Constraint(expr = m.C['B'] <= 0.2*m.Capital)\n",
    "m.C6 = Constraint(expr = m.C['C'] <= 0.1*m.Capital)\n",
    "\n",
    "#solve\n",
    "opt = SolverFactory('cbc')\n",
    "m.results = opt.solve(m)\n",
    "\n",
    "#print\n",
    "m.pprint()\n",
    "print('\\n\\nOF:',value(m.obj))"
   ],
   "outputs": [
    {
     "output_type": "stream",
     "name": "stdout",
     "text": [
      "1 Set Declarations\n",
      "    setInv : Size=1, Index=None, Ordered=Insertion\n",
      "        Key  : Dimen : Domain : Size : Members\n",
      "        None :     1 :    Any :    3 : {'A', 'B', 'C'}\n",
      "\n",
      "2 Var Declarations\n",
      "    C : Size=3, Index=setInv\n",
      "        Key : Lower : Value   : Upper : Fixed : Stale : Domain\n",
      "          A :     0 : 70000.0 :  None : False : False :  Reals\n",
      "          B :     0 : 20000.0 :  None : False : False :  Reals\n",
      "          C :     0 : 10000.0 :  None : False : False :  Reals\n",
      "    R : Size=3, Index=setInv\n",
      "        Key : Lower : Value  : Upper : Fixed : Stale : Domain\n",
      "          A :     0 : 3500.0 :  None : False : False :  Reals\n",
      "          B :     0 : 2000.0 :  None : False : False :  Reals\n",
      "          C :     0 : 1200.0 :  None : False : False :  Reals\n",
      "\n",
      "1 Objective Declarations\n",
      "    obj : Size=1, Index=None, Active=True\n",
      "        Key  : Active : Sense    : Expression\n",
      "        None :   True : maximize : R[A] + R[B] + R[C]\n",
      "\n",
      "6 Constraint Declarations\n",
      "    C1 : Size=1, Index=None, Active=True\n",
      "        Key  : Lower    : Body               : Upper    : Active\n",
      "        None : 100000.0 : C[A] + C[B] + C[C] : 100000.0 :   True\n",
      "    C2 : Size=1, Index=None, Active=True\n",
      "        Key  : Lower : Body             : Upper : Active\n",
      "        None :   0.0 : R[A] - 0.05*C[A] :   0.0 :   True\n",
      "    C3 : Size=1, Index=None, Active=True\n",
      "        Key  : Lower : Body            : Upper : Active\n",
      "        None :   0.0 : R[B] - 0.1*C[B] :   0.0 :   True\n",
      "    C4 : Size=1, Index=None, Active=True\n",
      "        Key  : Lower : Body             : Upper : Active\n",
      "        None :   0.0 : R[C] - 0.12*C[C] :   0.0 :   True\n",
      "    C5 : Size=1, Index=None, Active=True\n",
      "        Key  : Lower : Body : Upper   : Active\n",
      "        None :  -Inf : C[B] : 20000.0 :   True\n",
      "    C6 : Size=1, Index=None, Active=True\n",
      "        Key  : Lower : Body : Upper   : Active\n",
      "        None :  -Inf : C[C] : 10000.0 :   True\n",
      "\n",
      "10 Declarations: setInv C R obj C1 C2 C3 C4 C5 C6\n",
      "\n",
      "\n",
      "OF: 6700.0\n"
     ]
    }
   ],
   "metadata": {}
  },
  {
   "cell_type": "code",
   "execution_count": null,
   "source": [],
   "outputs": [],
   "metadata": {}
  }
 ],
 "metadata": {
  "orig_nbformat": 4,
  "language_info": {
   "name": "python",
   "version": "3.10.6",
   "mimetype": "text/x-python",
   "codemirror_mode": {
    "name": "ipython",
    "version": 3
   },
   "pygments_lexer": "ipython3",
   "nbconvert_exporter": "python",
   "file_extension": ".py"
  },
  "kernelspec": {
   "name": "python3",
   "display_name": "Python 3.10.8 64-bit ('opt-env': conda)"
  },
  "interpreter": {
   "hash": "f852b63af71600fb6cf05ccbea7f2545713ef55103bc1161e311f9a4a9c5b3ed"
  }
 },
 "nbformat": 4,
 "nbformat_minor": 2
}